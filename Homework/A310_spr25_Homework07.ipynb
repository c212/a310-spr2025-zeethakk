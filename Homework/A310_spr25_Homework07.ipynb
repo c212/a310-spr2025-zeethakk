{
  "nbformat": 4,
  "nbformat_minor": 0,
  "metadata": {
    "colab": {
      "provenance": []
    },
    "kernelspec": {
      "name": "python3",
      "display_name": "Python 3"
    },
    "language_info": {
      "name": "python"
    }
  },
  "cells": [
    {
      "cell_type": "markdown",
      "source": [
        "### **Tower of Hanoi Problem**"
      ],
      "metadata": {
        "id": "6duxSPE2iL2G"
      }
    },
    {
      "cell_type": "code",
      "execution_count": 1,
      "metadata": {
        "colab": {
          "base_uri": "https://localhost:8080/"
        },
        "id": "nCqvHSl4h_gl",
        "outputId": "bd04183b-9e50-4d46-e15e-721ea635e3f2"
      },
      "outputs": [
        {
          "output_type": "stream",
          "name": "stdout",
          "text": [
            "n=1 Move disk from Start to Target\n",
            "Move disk from Start to Helper\n",
            "n=1 Move disk from Target to Helper\n",
            "Move disk from Start to Target\n",
            "n=1 Move disk from Helper to Start\n",
            "Move disk from Helper to Target\n",
            "n=1 Move disk from Start to Target\n"
          ]
        }
      ],
      "source": [
        "# hanoi\n",
        "# https://www.mathsisfun.com/games/towerofhanoi.html\n",
        "\n",
        "def hanoi(n, start, helper, target):\n",
        "    if n == 1:\n",
        "        print(f\"n=1 Move disk from {start} to {target}\")  # Base case: Move one disk\n",
        "    else:\n",
        "        hanoi(n - 1, start, target, helper)  # Step 1: Move (n-1) disks to helper\n",
        "        print(f\"Move disk from {start} to {target}\")  # Step 2: Move nth disk to target\n",
        "        hanoi(n - 1, helper, start, target)  # Step 3: Move (n-1) disks from helper to target\n",
        "\n",
        "# Run example with 3 disks\n",
        "hanoi(3, 'Start', 'Helper', 'Target')\n",
        "\n",
        "\n",
        "# hanoi(3, s, h, t)\n",
        "#         hanoi(2, s, t, h)\n",
        "#             hanoi(1, s, h, t)\n",
        "#                 print(s--> t)\n",
        "#          print(s --> h)\n",
        "#             hanoi(1, t, s, h)\n",
        "#                 print(t--> h)\n",
        "#          print(s--> t)\n",
        "#     hanoi(2, h, s, t)\n",
        "#         hanoi(1, h, t, s)\n",
        "#                 print(h--> s)\n",
        "#       print(h --> t)\n",
        "#         hanoi(1, s, h, t)\n",
        "#                 print(s --> t)"
      ]
    },
    {
      "cell_type": "markdown",
      "source": [
        "### **Quicksort Algorithm**"
      ],
      "metadata": {
        "id": "KTeP1ecpayGu"
      }
    },
    {
      "cell_type": "code",
      "source": [
        "def quicksort(arr):\n",
        "    if len(arr) <= 1:  # Base case: A list of 0 or 1 elements is already sorted\n",
        "        return arr\n",
        "\n",
        "    pivot = arr[0]  # Choose the first element as the pivot\n",
        "    left = [x for x in arr[1:] if x <= pivot]  # Elements smaller than or equal to pivot\n",
        "    right = [x for x in arr[1:] if x > pivot]  # Elements greater than pivot\n",
        "\n",
        "    return quicksort(left) + [pivot] + quicksort(right)  # Recursively sort left and right\n",
        "\n",
        "a = [5, 3, 8, 4, 2, 7, 1] # left[3,4,2,1] pivot=5 right[8,7]\n",
        "# left[2,1] pivot=3 right[4]\n",
        "# left[1,2,3,4] + pivot[5] + right[7,8]\n",
        "b = quicksort(a)\n",
        "print(b)"
      ],
      "metadata": {
        "colab": {
          "base_uri": "https://localhost:8080/"
        },
        "id": "JIe7CAZKiWi6",
        "outputId": "f619eaf7-f948-4763-a1dd-35c9806d0dfd"
      },
      "execution_count": 2,
      "outputs": [
        {
          "output_type": "stream",
          "name": "stdout",
          "text": [
            "[1, 2, 3, 4, 5, 7, 8]\n"
          ]
        }
      ]
    },
    {
      "cell_type": "code",
      "source": [],
      "metadata": {
        "id": "Ld14O-K2iio_"
      },
      "execution_count": 2,
      "outputs": []
    },
    {
      "cell_type": "code",
      "source": [],
      "metadata": {
        "id": "rQB1HNzTdkKJ"
      },
      "execution_count": 2,
      "outputs": []
    },
    {
      "cell_type": "markdown",
      "source": [
        "## **Homework-07: Chapters 4, 5 and 6 in Python One-Liners**"
      ],
      "metadata": {
        "id": "mFthNe33dked"
      }
    },
    {
      "cell_type": "code",
      "source": [
        "# Problem 1\n",
        "\n",
        "## Dependencies\n",
        "import numpy as np\n",
        "\n",
        "## Data: yearly salary in ($1000) [2017, 2018, 2019]\n",
        "alice = [99, 101, 103]\n",
        "bob = [110, 108, 105]\n",
        "tim = [90, 88, 85]\n",
        "\n",
        "salaries = np.array([alice, bob, tim])\n",
        "taxation = np.array([[0.2, 0.25, 0.22],\n",
        "                     [0.4, 0.5, 0.5],\n",
        "                     [0.1, 0.2, 0.1]])\n",
        "\n",
        "## One-liner\n",
        "max_income = np.max(salaries - salaries * taxation)\n",
        "\n",
        "## Result\n",
        "print(max_income)"
      ],
      "metadata": {
        "colab": {
          "base_uri": "https://localhost:8080/"
        },
        "id": "OUOPXsl5dxZ9",
        "outputId": "e1952138-0374-4bee-b55d-ffffa132fdeb"
      },
      "execution_count": 3,
      "outputs": [
        {
          "output_type": "stream",
          "name": "stdout",
          "text": [
            "81.0\n"
          ]
        }
      ]
    },
    {
      "cell_type": "code",
      "source": [
        "# Problem 2\n",
        "\n",
        "a = np.array([6, 4, 2, 9, 5, 1, 8, 3, 7])\n",
        "      # i =   0, 1, 2, 3, 4, 5, 6, 7, 8\n",
        "      #-i =   0,-8,-7,-6,-5,-4,-3,-2,-1\n",
        "\n",
        "print(a) # prints [6 4 2 9 5 1 8 3 7]\n",
        "print(a[:]) # prints [6 4 2 9 5 1 8 3 7]\n",
        "print(a[4:]) # prints [5 1 8 3 7]\n",
        "print(a[:4]) # prints [6 4 2 9]\n",
        "print(a[3:8]) # prints [9 5 1 8 3]\n",
        "\n",
        "print(a[5:-2]) # prints [1 8]\n",
        "print(a[-2:3]) # prints []\n",
        "print(a[-2:3:-1]) # prints [3 8 1 5]\n",
        "\n",
        "print(a[::-1]) # prints [7 3 8 1 5 9 2 4 6]\n",
        "print(a[4::2]) # prints [5 8 7]\n",
        "\n",
        "print(a[:3:-2]) # prints [7 8 5]\n",
        "print(a[:2:-2]) # prints [7 8 5]\n",
        "\n",
        "print(a[-1::-2]) # prints [7 8 5 2 6]\n",
        "print(a[-1:0:-2]) # prints [7 8 5 2]"
      ],
      "metadata": {
        "colab": {
          "base_uri": "https://localhost:8080/"
        },
        "id": "Lu5YMRoKd4ix",
        "outputId": "64ffb93f-cb35-49e4-d7b5-48028cdc56fe"
      },
      "execution_count": 4,
      "outputs": [
        {
          "output_type": "stream",
          "name": "stdout",
          "text": [
            "[6 4 2 9 5 1 8 3 7]\n",
            "[6 4 2 9 5 1 8 3 7]\n",
            "[5 1 8 3 7]\n",
            "[6 4 2 9]\n",
            "[9 5 1 8 3]\n",
            "[1 8]\n",
            "[]\n",
            "[3 8 1 5]\n",
            "[7 3 8 1 5 9 2 4 6]\n",
            "[5 8 7]\n",
            "[7 8 5]\n",
            "[7 8 5]\n",
            "[7 8 5 2 6]\n",
            "[7 8 5 2]\n"
          ]
        }
      ]
    },
    {
      "cell_type": "code",
      "source": [
        "# Problem 3\n",
        "\n",
        "import numpy as np\n",
        "\n",
        "a = np.array([[0, 1, 2, 3],\n",
        "              [4, 5, 6, 7],\n",
        "              [8, 9, 1, 2],\n",
        "              [3, 4, 5, 0]])\n",
        "\n",
        "print(a[:, 1]) # second column\n",
        "# [1 5 9 4]\n",
        "\n",
        "print(a[2, :]) # third row\n",
        "# [8 9 1 2]\n",
        "\n",
        "print(a[3, ::-1]) # fourth row backwards\n",
        "# [0 5 4 3]\n",
        "\n",
        "############# a[row_start:row_end, col_start:col_end] ###############\n",
        "\n",
        "# m=row, n=column\n",
        "# a[:-m, :-n] # Exclude last m rows and n columns\n",
        "\n",
        "print(a[:-2, :-2]) # all lines and columns except last two\n",
        "# [[0 1]\n",
        "#  [4 5]]\n",
        "\n",
        "# a[-m: ,-n: ] take only last m rows and n columns\n",
        "print(a[-2:, -2:]) # all lines and columns except first two\n",
        "# [[1 2]\n",
        "#  [5 0]]\n",
        "\n",
        "print(a[-1:-2:-1, ]) # last row\n",
        "# [[3 4 5 0]]\n",
        "\n",
        "print(a[:-2, -2:]) # top two rows intersected with last two columns\n",
        "# [[2 3]\n",
        "#  [6 7]]\n",
        "\n",
        "print(a[1:3,1:3]) # middle two by two matrix\n",
        "# [[5 6]\n",
        "#  [9 1]]\n",
        "\n",
        "print(a[::-1, ::-1]) # reversed rows in reverse\n",
        "# [[0 5 4 3]\n",
        "#  [2 1 9 8]\n",
        "#  [7 6 5 4]\n",
        "#  [3 2 1 0]]"
      ],
      "metadata": {
        "colab": {
          "base_uri": "https://localhost:8080/"
        },
        "id": "qIh2q9AGd7Em",
        "outputId": "a1b60611-0fba-4a27-d4ea-d794b67a9505"
      },
      "execution_count": 5,
      "outputs": [
        {
          "output_type": "stream",
          "name": "stdout",
          "text": [
            "[1 5 9 4]\n",
            "[8 9 1 2]\n",
            "[0 5 4 3]\n",
            "[[0 1]\n",
            " [4 5]]\n",
            "[[1 2]\n",
            " [5 0]]\n",
            "[[3 4 5 0]]\n",
            "[[2 3]\n",
            " [6 7]]\n",
            "[[5 6]\n",
            " [9 1]]\n",
            "[[0 5 4 3]\n",
            " [2 1 9 8]\n",
            " [7 6 5 4]\n",
            " [3 2 1 0]]\n"
          ]
        }
      ]
    },
    {
      "cell_type": "markdown",
      "source": [
        "Broadcasting simplifies mathematical operations on arrays with different shapes. It enables NumPy to efficiently apply operations element-wise without explicitly copying or reshaping data."
      ],
      "metadata": {
        "id": "gcqDhrTIokDR"
      }
    },
    {
      "cell_type": "code",
      "source": [
        "# Problem 4\n",
        "\n",
        "a = np.array([\n",
        "              [1, 2, 0],\n",
        "              [4, 5, 3],\n",
        "              [6, 8, 7]\n",
        "            ])\n",
        "\n",
        "a[::2] += 1 # broadcasting happens here\n",
        "\n",
        "print (a) # prints [[2 3 1] [[4 5 3] [7 9 8]]\n",
        "# rows 1 and 3 have their elements incremented by one\n",
        "\n",
        "print(\"------------\")\n",
        "\n",
        "a[:, ::2] += 1 # broadcasting, again\n",
        "\n",
        "print(a) # prints [[3 3 2] [5 5 4] [8 9 9]]\n",
        "# columns 1 and 3 have their elements incremented by one\n",
        "\n",
        "print(\"------------\")\n",
        "\n",
        "a[:,:] -= 1 # what is broadcasting?\n",
        "print(a) # prints [[2 2 1] [4 4 3] [7 8 8]]\n",
        "# all elements decremented by one\n",
        "\n",
        "print(\"------------\")\n",
        "print(a.shape) # prints (3, 3)\n",
        "print(a[1].shape) # prints (3,)\n",
        "print(a.ndim) # prints 2\n",
        "print(a[0].ndim) # prints 1"
      ],
      "metadata": {
        "colab": {
          "base_uri": "https://localhost:8080/"
        },
        "id": "V0L3Nr0_eHyI",
        "outputId": "354e4795-e73f-4aff-a99d-dc01d9499594"
      },
      "execution_count": 6,
      "outputs": [
        {
          "output_type": "stream",
          "name": "stdout",
          "text": [
            "[[2 3 1]\n",
            " [4 5 3]\n",
            " [7 9 8]]\n",
            "------------\n",
            "[[3 3 2]\n",
            " [5 5 4]\n",
            " [8 9 9]]\n",
            "------------\n",
            "[[2 2 1]\n",
            " [4 4 3]\n",
            " [7 8 8]]\n",
            "------------\n",
            "(3, 3)\n",
            "(3,)\n",
            "2\n",
            "1\n"
          ]
        }
      ]
    },
    {
      "cell_type": "code",
      "source": [
        "# Problem 5\n",
        "\n",
        "a = np.array([\n",
        "              [0, 1, 0],\n",
        "              [2, 0, 0],\n",
        "              [3, 0, 3]\n",
        "            ])\n",
        "\n",
        "print(np.nonzero(a)) # prints (array([0, 1, 2, 2]), array([1, 0, 0, 2]))\n",
        "print(np.average(a)) # prints 1.0 (9/9)\n",
        "print(a > np.average(a)) # prints [[False False False] [ True False False] [ True False  True]]\n",
        "\n",
        "print(\"---------------------------------------------\")\n",
        "\n",
        "b = np.array([\"One\", \"Two\", \"Three\"])\n",
        "\n",
        "print(np.nonzero(a > np.average(a))) # (array([1, 2, 2]), array([0, 0, 2]))\n",
        "print(np.nonzero(a > np.average(a))[0]) # [1 2 2]\n",
        "\n",
        "print(b[ np.nonzero(a > np.average(a)) [0] ]) # ['Two' 'Three' 'Three']\n",
        "print(set(b[ np.nonzero(a > np.average(a)) [0] ])) # {'Two', 'Three'}"
      ],
      "metadata": {
        "colab": {
          "base_uri": "https://localhost:8080/"
        },
        "id": "sjbrC754eMWS",
        "outputId": "5c0a9aab-b5d3-48aa-ab8a-ba648aca2070"
      },
      "execution_count": 7,
      "outputs": [
        {
          "output_type": "stream",
          "name": "stdout",
          "text": [
            "(array([0, 1, 2, 2]), array([1, 0, 0, 2]))\n",
            "1.0\n",
            "[[False False False]\n",
            " [ True False False]\n",
            " [ True False  True]]\n",
            "---------------------------------------------\n",
            "(array([1, 2, 2]), array([0, 0, 2]))\n",
            "[1 2 2]\n",
            "['Two' 'Three' 'Three']\n",
            "{'Three', 'Two'}\n"
          ]
        }
      ]
    },
    {
      "cell_type": "code",
      "source": [
        "# Problem 6\n",
        "\n",
        "a = np.array([[25, \"mgbako\"  ],  # pu away\n",
        "              [15, \"mgbako\"  ],  # wi away\n",
        "              [16, \"reneau\"  ],  # mi at home\n",
        "              [19, \"reneau\"  ],  # msu away\n",
        "              [16, \"goode\"   ],  # ucla home\n",
        "              [15, \"galloway\"],  # pu home\n",
        "              [15, \"reneau\"  ]]) # pu home\n",
        "\n",
        "## One-liner\n",
        "b = a[a[:,0].astype(float) > a[:,0].astype(float).min(), 1]\n",
        "\n",
        "# a[:,0].astype(float) -> selects all the rows but only 0th column and then converts it into float\n",
        "# a[:,0].astype(float).min() -> gives 15.\n",
        "# Filtering Rows Where Column 0 Is Greater Than the Minimum -> a[:,0].astype(float) > a[:,0].astype(float).min()\n",
        "# then it selects only from the column 1 and stores the names\n",
        "\n",
        "## Results\n",
        "print(b) # prints ['mgbako' 'reneau' 'reneau' 'goode']\n",
        "print(set(b)) # prints {'mgbako', 'reneau', 'goode'}"
      ],
      "metadata": {
        "colab": {
          "base_uri": "https://localhost:8080/"
        },
        "id": "ZWY_Xy45eiMC",
        "outputId": "4f8cdd8a-caa5-4f15-92e4-c801d2d67348"
      },
      "execution_count": 8,
      "outputs": [
        {
          "output_type": "stream",
          "name": "stdout",
          "text": [
            "['mgbako' 'reneau' 'reneau' 'goode']\n",
            "{'reneau', 'goode', 'mgbako'}\n"
          ]
        }
      ]
    },
    {
      "cell_type": "code",
      "source": [
        "# Problem 7\n",
        "\n",
        "a = np.array([1, 2, 3, 4, 5, 6])\n",
        "\n",
        "a[1::2] = 1 # a = [1,1,3,1,5,1] # Shape (6,)\n",
        "print(a.reshape(2, -1)) # prints [[1 1 3] [1 5 1]]\n",
        "\n",
        "print(\"------------------------------\")\n",
        "\n",
        "a[2::3] = np.sum(a.reshape((-1,3)), axis=1)\n",
        "print(a) # prints [1 1 5 1 5 7]\n",
        "# replace every third value with the sum of the last three values\n",
        "\n",
        "print(\"------------------------------\")\n",
        "\n",
        "points = np.array([15, 15, 16, 19, 16, 15, 25])\n",
        "players = np.array([\"reneau\", \"galloway\", \"goode\", \"reneau\", \"reneau\", \"mgbako\", \"mgbako\"])\n",
        "\n",
        "print(np.sort(points)) # prints [15 15 15 16 16 19 25]\n",
        "print(np.argsort(points)) # prints [0 1 5 2 4 3 6]\n",
        "\n",
        "# players[np.argsort(points)] → Rearrange players in the same sorted order.\n",
        "print(players[np.argsort(points)][0:3]) # prints ['reneau' 'galloway' 'mgbako']\n",
        "\n",
        "# prints names of bottom three top scorers\n",
        "\n",
        "print(\"------------------------------\")\n",
        "\n",
        "numbers = np.array([5, 1, 4, 6, 2, 3])\n",
        "numbers = numbers.reshape(-1, 3)\n",
        "\n",
        "print(numbers) # prints [[5 1 4] [6 2 3]]\n",
        "print(max(numbers, key = lambda x : x[1])) # prints [6 2 3] # Finds the row with the highest value in column 1 (index 1).\n",
        "# from the last problem in chapter 3"
      ],
      "metadata": {
        "colab": {
          "base_uri": "https://localhost:8080/"
        },
        "id": "TL1fv7Z-emww",
        "outputId": "60434f66-aa8d-437b-eb9d-17b8b2c2d723"
      },
      "execution_count": 9,
      "outputs": [
        {
          "output_type": "stream",
          "name": "stdout",
          "text": [
            "[[1 1 3]\n",
            " [1 5 1]]\n",
            "------------------------------\n",
            "[1 1 5 1 5 7]\n",
            "------------------------------\n",
            "[15 15 15 16 16 19 25]\n",
            "[0 1 5 2 4 3 6]\n",
            "['reneau' 'galloway' 'mgbako']\n",
            "------------------------------\n",
            "[[5 1 4]\n",
            " [6 2 3]]\n",
            "[6 2 3]\n"
          ]
        }
      ]
    },
    {
      "cell_type": "markdown",
      "source": [
        "**Regex**"
      ],
      "metadata": {
        "id": "0LdMZKzCfY2X"
      }
    },
    {
      "cell_type": "code",
      "source": [
        "# Problem 8\n",
        "\n",
        "import re\n",
        "\n",
        "# re.sub(pattern, replacement, input)\n",
        "\n",
        "input = \"I am happy.\"\n",
        "\n",
        "print(re.sub('[aeiou]', '-', input)) # prints I -m h-ppy. # Replaces each vowel with '-'.\n",
        "\n",
        "print(re.sub('[^aeiou]', '-', input)) # prints --a---a---- # Replaces each consonant with '-'.\n",
        "\n",
        "print(re.sub('([^aeiou\\s.])', r'(\\1)', input)) # prints (I) a(m) (h)a(p)(p)(y).\n",
        "# [^aeiou\\s.] → Matches any character that is NOT a vowel, space, or period.\n",
        "# () around \\1 in replacement → Wraps the matched character inside parentheses.\n",
        "\n",
        "\n",
        "print(re.sub('(\\W)(\\w)', r'\\2\\1', input)) # prints Ia mh appy.\n",
        "# \\W → Matches any non-word character (spaces, punctuation)\n",
        "# \\w → Matches any word character (letters, digits)\n",
        "# r'\\2\\1' → Swaps positions of the matched groups.\n",
        "\n",
        "\n",
        "print(re.sub('(\\w)(\\W)', r'\\2\\1', input)) # prints  Ia mhapp.y\n",
        "\n",
        "print(re.sub('([aeiou])([^aeiou\\s])', r'\\2\\1', input)) # prints I ma hpapy.\n",
        "# ([aeiou]) → Matches a vowel (a, e, i, o, u).\n",
        "# ([^aeiou\\s]) → Matches any consonant, but not spaces."
      ],
      "metadata": {
        "colab": {
          "base_uri": "https://localhost:8080/"
        },
        "id": "jiG4bF_GeqFG",
        "outputId": "c8394288-9645-4bd4-bcc8-c2170413274f"
      },
      "execution_count": 10,
      "outputs": [
        {
          "output_type": "stream",
          "name": "stdout",
          "text": [
            "I -m h-ppy.\n",
            "--a---a----\n",
            "(I) a(m) (h)a(p)(p)(y).\n",
            "Ia mh appy.\n",
            " Ia mhapp.y\n",
            "I ma hpapy.\n"
          ]
        }
      ]
    },
    {
      "cell_type": "code",
      "source": [
        "# Problem 9\n",
        "\n",
        "input = \"Once 9123 upon a 4567 there was a 12389\"\n",
        "print(input) # prints Once 9123 upon a 4567 there was a 12389\n",
        "\n",
        "result = re.sub('\\d\\d', '-', input)\n",
        "print(result) # prints Once -- upon a -- there was a --9\n",
        "\n",
        "\n",
        "# Pattern: \\d((\\d)(\\d))\\d\n",
        "# \\d → Matches a digit before and after the captured group.\n",
        "# ((\\d)(\\d)) → Captures two digits inside a bigger group.\n",
        "# \\1 → First captured group (second and third digit).\n",
        "# \\3 → Third captured group (third digit).\n",
        "\n",
        "result = re.sub('\\d((\\d)(\\d))\\d', r'\\1+\\3', input)\n",
        "# This pattern replaces a string with a part of itself\n",
        "print(result) # prints Once 12+2 upon a 56+6 there was a 23+39\n",
        "\n",
        "julianne = \"2364523\"\n",
        "result = re.sub('(\\d)(\\d)', r'\\1+\\2', julianne)\n",
        "print(result) # prints 2+36+45+23\n",
        "\n",
        "def add_two(match):\n",
        "    return str(int(match.group()) + 2)\n",
        "\n",
        "s = 'Alex 28'\n",
        "result = re.sub(r'(\\d+)', add_two, s)\n",
        "print(result) # prints Alex 30\n",
        "\n",
        "# \\d+ → Matches any sequence of digits (28)\n",
        "\n",
        "suraj = re.sub(r'(\\d)(\\d)', lambda m: str(int(m.group(1)) + int(m.group(2))), s)\n",
        "print(suraj) # prints Alex 10\n",
        "\n",
        "# Pattern: (\\d)(\\d)\n",
        "# Matches two consecutive digits.\n",
        "# Replacement: Adds them together.\n",
        "\n",
        "linjun = \"12345\"\n",
        "suraj = re.sub(r'(\\d)(\\d)', lambda m: m.group(2) + m.group(1), linjun)\n",
        "                #                     \\2           \\1\n",
        "print(suraj) # prints 21435\n",
        "\n",
        "# same as above just reverse the order\n",
        "\n",
        "text = \"I am here.\"\n",
        "text = re.sub('(\\w)', r'(\\1)', text)\n",
        "print(text) # prints (I) (a)(m) (h)(e)(r)(e)."
      ],
      "metadata": {
        "colab": {
          "base_uri": "https://localhost:8080/"
        },
        "id": "bHaN06wie-B9",
        "outputId": "53070e56-3565-4aa1-dcfc-e9b6f13dbcf8"
      },
      "execution_count": 11,
      "outputs": [
        {
          "output_type": "stream",
          "name": "stdout",
          "text": [
            "Once 9123 upon a 4567 there was a 12389\n",
            "Once -- upon a -- there was a --9\n",
            "Once 12+2 upon a 56+6 there was a 23+39\n",
            "2+36+45+23\n",
            "Alex 30\n",
            "Alex 10\n",
            "21435\n",
            "(I) (a)(m) (h)(e)(r)(e).\n"
          ]
        }
      ]
    },
    {
      "cell_type": "code",
      "source": [
        "# Problem 10\n",
        "\n",
        "def nuf(a, b):\n",
        "    return int(a) + int(b)\n",
        "\n",
        "def fun(match): # , eggplant):\n",
        "    a = nuf(match.group(1), match.group(2))\n",
        "    print(match) # what gets printed with this?\n",
        "    return str(a) # match.group(2) + match.group(1)\n",
        "\n",
        "word = \"12345\"\n",
        "result = re.sub('(\\d)(\\d)', fun, word)\n",
        "# (\\d)(\\d) → Captures two consecutive digits.\n",
        "# 1,2 got matched and 3,4 got matched which returned 3,7 from the function\n",
        "print(result) # prints 375\n",
        "\n",
        "mark = map(lambda num : num + 1, [8, 1, 2, 3, 2, 5]) # just adds one to each element\n",
        "print(list(mark)) # prints [9, 2, 3, 4, 3, 6]\n",
        "\n",
        "word = \"The works.\"\n",
        "result1 = re.sub('(\\w)', r'(\\1)', word)\n",
        "result2 = re.sub('(\\w)', '(\\1)', word)\n",
        "#'(\\1)' (without r'') is treated as a normal string, not a raw string.\n",
        "\n",
        "print(result1) # prints (T)(h)(e) (w)(o)(r)(k)(s).\n",
        "print(result2) # prints ()()() ()()()()()."
      ],
      "metadata": {
        "colab": {
          "base_uri": "https://localhost:8080/"
        },
        "id": "hy6dGX6FfBum",
        "outputId": "ed8cee0e-8862-44f0-96bf-e3b9ce02db24"
      },
      "execution_count": 12,
      "outputs": [
        {
          "output_type": "stream",
          "name": "stdout",
          "text": [
            "<re.Match object; span=(0, 2), match='12'>\n",
            "<re.Match object; span=(2, 4), match='34'>\n",
            "375\n",
            "[9, 2, 3, 4, 3, 6]\n",
            "(T)(h)(e) (w)(o)(r)(k)(s).\n",
            "(\u0001)(\u0001)(\u0001) (\u0001)(\u0001)(\u0001)(\u0001)(\u0001).\n"
          ]
        }
      ]
    },
    {
      "cell_type": "markdown",
      "source": [
        "**Regression**"
      ],
      "metadata": {
        "id": "zqjXQx1WfSga"
      }
    },
    {
      "cell_type": "code",
      "source": [
        "# Problem 11\n",
        "\n",
        "from sklearn.linear_model import LinearRegression\n",
        "import numpy as np\n",
        "\n",
        "## Data (Apple stock prices)\n",
        "apple = np.array([157, 156, 159, 159])\n",
        "n = len(apple)\n",
        "\n",
        "## One-liner\n",
        "model = LinearRegression().fit(np.arange(n).reshape((n,1)), apple)\n",
        "# np.arrange(n) = [0,1,2,3]\n",
        "# np.arange(n).reshape((n,1))\n",
        "# Becomes:\n",
        "# [[0]\n",
        "#  [1]\n",
        "#  [2]\n",
        "#  [3]]\n",
        "\n",
        "# X = [[0], [1], [2], [3]] (time steps)\n",
        "# y = [157, 156, 159, 159] (stock prices)\n",
        "\n",
        "# y = mx+c formula\n",
        "\n",
        "## Result & puzzle\n",
        "print(model.predict([[4],[5],[6]]))"
      ],
      "metadata": {
        "colab": {
          "base_uri": "https://localhost:8080/"
        },
        "id": "GoeBBo7ofHSR",
        "outputId": "b2b7571c-aa89-42db-ce63-1ccf2d98d9c9"
      },
      "execution_count": 13,
      "outputs": [
        {
          "output_type": "stream",
          "name": "stdout",
          "text": [
            "[160.  160.9 161.8]\n"
          ]
        }
      ]
    },
    {
      "cell_type": "code",
      "source": [
        "# Problem 12\n",
        "\n",
        "from sklearn.linear_model import LogisticRegression\n",
        "\n",
        "## Data (#cigarettes, cancer)\n",
        "X = np.array([[0, \"No\"],\n",
        "              [10, \"No\"],\n",
        "              [60, \"Yes\"],\n",
        "              [90, \"Yes\"]])\n",
        "\n",
        "## One-liner\n",
        "model = LogisticRegression().fit(X[:,0].reshape(n,1), X[:,1])\n",
        "\n",
        "# X[:,0] do? Selects only the first column (number of cigarettes).\n",
        "# .reshape(n,1)?\n",
        "# X[:,0] gives a 1D array, but sklearn expects a 2D array (n,1).\n",
        "# reshape(n,1) ensures it is correctly formatted.\n",
        "\n",
        "# then x and y fits into logistic regression which works on sigmoid function\n",
        "\n",
        "## Result & puzzle\n",
        "print(model.predict([[12],[29],[34],[36],[38],[41],[58]]))"
      ],
      "metadata": {
        "colab": {
          "base_uri": "https://localhost:8080/"
        },
        "id": "Ce20DYksfL3j",
        "outputId": "af59d262-951c-48e5-fd96-a58ef5ec79ac"
      },
      "execution_count": 14,
      "outputs": [
        {
          "output_type": "stream",
          "name": "stdout",
          "text": [
            "['No' 'No' 'No' 'Yes' 'Yes' 'Yes' 'Yes']\n"
          ]
        }
      ]
    },
    {
      "cell_type": "markdown",
      "source": [
        "Supervised Learning:"
      ],
      "metadata": {
        "id": "IUA34OOSaPQh"
      }
    },
    {
      "cell_type": "code",
      "source": [],
      "metadata": {
        "id": "ZXk1peVMfP6O"
      },
      "execution_count": 14,
      "outputs": []
    }
  ]
}